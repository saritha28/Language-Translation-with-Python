{
 "cells": [
  {
   "cell_type": "code",
   "execution_count": 1,
   "metadata": {},
   "outputs": [
    {
     "name": "stdout",
     "output_type": "stream",
     "text": [
      "Collecting googletrans==4.0.0-rc1\n",
      "  Downloading https://files.pythonhosted.org/packages/fa/0d/a5fe8fb53dbf401f8a34cef9439c4c5b8f5037e20123b3e731397808d839/googletrans-4.0.0rc1.tar.gz\n",
      "Requirement already satisfied: httpx==0.13.3 in c:\\common files\\new folder\\lib\\site-packages (from googletrans==4.0.0-rc1) (0.13.3)\n",
      "Requirement already satisfied: certifi in c:\\common files\\new folder\\lib\\site-packages (from httpx==0.13.3->googletrans==4.0.0-rc1) (2023.11.17)\n",
      "Requirement already satisfied: idna==2.* in c:\\common files\\new folder\\lib\\site-packages (from httpx==0.13.3->googletrans==4.0.0-rc1) (2.8)\n",
      "Requirement already satisfied: rfc3986<2,>=1.3 in c:\\common files\\new folder\\lib\\site-packages (from httpx==0.13.3->googletrans==4.0.0-rc1) (1.5.0)\n",
      "Requirement already satisfied: hstspreload in c:\\common files\\new folder\\lib\\site-packages (from httpx==0.13.3->googletrans==4.0.0-rc1) (2024.2.1)\n",
      "Requirement already satisfied: sniffio in c:\\common files\\new folder\\lib\\site-packages (from httpx==0.13.3->googletrans==4.0.0-rc1) (1.3.0)\n",
      "Requirement already satisfied: chardet==3.* in c:\\common files\\new folder\\lib\\site-packages (from httpx==0.13.3->googletrans==4.0.0-rc1) (3.0.4)\n",
      "Requirement already satisfied: httpcore==0.9.* in c:\\common files\\new folder\\lib\\site-packages (from httpx==0.13.3->googletrans==4.0.0-rc1) (0.9.1)\n",
      "Requirement already satisfied: h2==3.* in c:\\common files\\new folder\\lib\\site-packages (from httpcore==0.9.*->httpx==0.13.3->googletrans==4.0.0-rc1) (3.2.0)\n",
      "Requirement already satisfied: h11<0.10,>=0.8 in c:\\common files\\new folder\\lib\\site-packages (from httpcore==0.9.*->httpx==0.13.3->googletrans==4.0.0-rc1) (0.9.0)\n",
      "Requirement already satisfied: hpack<4,>=3.0 in c:\\common files\\new folder\\lib\\site-packages (from h2==3.*->httpcore==0.9.*->httpx==0.13.3->googletrans==4.0.0-rc1) (3.0.0)\n",
      "Requirement already satisfied: hyperframe<6,>=5.2.0 in c:\\common files\\new folder\\lib\\site-packages (from h2==3.*->httpcore==0.9.*->httpx==0.13.3->googletrans==4.0.0-rc1) (5.2.0)\n",
      "Building wheels for collected packages: googletrans\n",
      "  Building wheel for googletrans (setup.py): started\n",
      "  Building wheel for googletrans (setup.py): finished with status 'done'\n",
      "  Created wheel for googletrans: filename=googletrans-4.0.0rc1-cp37-none-any.whl size=17422 sha256=705890a24dd737bb68d40e90ab7f02a63cb80a3bf03baef7defa8d2a9c4250be\n",
      "  Stored in directory: C:\\Users\\sarit\\AppData\\Local\\pip\\Cache\\wheels\\09\\32\\56\\fd8940f1b3c1d77c9f91b55597c52a4d4833b000a980bb0740\n",
      "Successfully built googletrans\n",
      "Installing collected packages: googletrans\n",
      "  Found existing installation: googletrans 3.0.0\n",
      "    Uninstalling googletrans-3.0.0:\n",
      "      Successfully uninstalled googletrans-3.0.0\n",
      "Successfully installed googletrans-4.0.0rc1\n"
     ]
    }
   ],
   "source": [
    "!pip install googletrans==4.0.0-rc1"
   ]
  },
  {
   "cell_type": "code",
   "execution_count": 9,
   "metadata": {},
   "outputs": [
    {
     "name": "stdout",
     "output_type": "stream",
     "text": [
      "Enter the text to translate: Hello everyone\n",
      "Enter the target language (e.g., 'fr' for French, 'es' for Spanish): hi\n",
      "Translated text: सभी को नमस्कार\n"
     ]
    }
   ],
   "source": [
    "from googletrans import Translator\n",
    "\n",
    "translator = Translator()\n",
    "\n",
    "#take input from the user\n",
    "text = input(\"Enter the text to translate: \")\n",
    "target_language = input(\"Enter the target language (e.g., 'fr' for French, 'es' for Spanish): \")\n",
    "\n",
    "translated_text = translator.translate(text, dest=target_language)\n",
    "print(\"Translated text:\", translated_text.text)\n"
   ]
  },
  {
   "cell_type": "code",
   "execution_count": 10,
   "metadata": {},
   "outputs": [],
   "source": [
    "import tkinter as tk\n",
    "from tkinter import ttk\n",
    "from googletrans import Translator\n",
    "\n",
    "class TranslatorApp:\n",
    "    def __init__(self, master):\n",
    "        self.master = master\n",
    "        master.title(\"Language Translator\")\n",
    "\n",
    "        self.translator = Translator()\n",
    "\n",
    "        # Styling\n",
    "        self.master.configure(bg='#f0f0f0')\n",
    "        self.master.geometry('400x300')\n",
    "\n",
    "        self.label1 = tk.Label(master, text=\"Enter text to translate\", bg='#f0f0f0', fg='#333333', font=('Arial', 12, 'bold'))\n",
    "        self.label1.pack()\n",
    "\n",
    "        self.text_entry = tk.Entry(master, width=40, font=('Arial', 10))\n",
    "        self.text_entry.pack()\n",
    "\n",
    "        self.label2 = tk.Label(master, text=\"Translated text\", bg='#f0f0f0', fg='#333333', font=('Arial', 12, 'bold'))\n",
    "        self.label2.pack()\n",
    "\n",
    "        self.translated_text = tk.StringVar()\n",
    "        self.translated_text_label = tk.Label(master, textvariable=self.translated_text, wraplength=380, justify='left', bg='#ffffff', bd=2, relief='solid', font=('Arial', 10))\n",
    "        self.translated_text_label.pack(pady=5)\n",
    "\n",
    "        self.label3 = tk.Label(master, text=\"Select language\", bg='#f0f0f0', fg='#333333', font=('Arial', 12, 'bold'))\n",
    "        self.label3.pack()\n",
    "\n",
    "        self.languages = ['en', 'fr', 'es', 'de', 'hi', 'bn', 'gu', 'kn', 'ml', 'mr', 'pa', 'ta', 'te']  # Add more languages as needed\n",
    "        self.language_var = tk.StringVar()\n",
    "        self.language_var.set(self.languages[0])  # Default to English\n",
    "        self.language_menu = ttk.Combobox(master, textvariable=self.language_var, values=self.languages, width=37, font=('Arial', 10))\n",
    "        self.language_menu.pack()\n",
    "\n",
    "        self.translate_button = tk.Button(master, text=\"Translate\", command=self.translate_text, bg='#4CAF50', fg='white', font=('Arial', 12, 'bold'), relief='raised')\n",
    "        self.translate_button.pack(pady=10)\n",
    "\n",
    "    def translate_text(self):\n",
    "        text_to_translate = self.text_entry.get()\n",
    "        target_language = self.language_var.get()\n",
    "        translated_result = self.translator.translate(text_to_translate, dest=target_language)\n",
    "        self.translated_text.set(translated_result.text)\n",
    "\n",
    "root = tk.Tk()\n",
    "app = TranslatorApp(root)\n",
    "root.mainloop()\n"
   ]
  },
  {
   "cell_type": "code",
   "execution_count": null,
   "metadata": {},
   "outputs": [],
   "source": []
  }
 ],
 "metadata": {
  "kernelspec": {
   "display_name": "Python 3",
   "language": "python",
   "name": "python3"
  },
  "language_info": {
   "codemirror_mode": {
    "name": "ipython",
    "version": 3
   },
   "file_extension": ".py",
   "mimetype": "text/x-python",
   "name": "python",
   "nbconvert_exporter": "python",
   "pygments_lexer": "ipython3",
   "version": "3.7.4"
  }
 },
 "nbformat": 4,
 "nbformat_minor": 2
}
